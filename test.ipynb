{
 "cells": [
  {
   "cell_type": "code",
   "execution_count": 2,
   "metadata": {},
   "outputs": [
    {
     "name": "stdout",
     "output_type": "stream",
     "text": [
      "torch.Size([1, 64, 5, 7])\n",
      "torch.Size([1, 64, 7, 7])\n",
      "torch.Size([1, 64, 10, 7])\n"
     ]
    }
   ],
   "source": [
    "from torch import nn \n",
    "import torch \n",
    "# target output size of 5x7\n",
    "m = nn.AdaptiveAvgPool2d((5,7))\n",
    "input = torch.randn(1, 64, 8, 9)\n",
    "output = m(input)\n",
    "print(output.shape)\n",
    "# target output size of 7x7 (square)\n",
    "m = nn.AdaptiveAvgPool2d(7)\n",
    "input = torch.randn(1, 64, 10, 9)\n",
    "output = m(input)\n",
    "print(output.shape)\n",
    "# target output size of 10x7\n",
    "m = nn.AdaptiveAvgPool2d((None, 7))\n",
    "input = torch.randn(1, 64, 10, 9)\n",
    "output = m(input)\n",
    "print(output.shape)"
   ]
  },
  {
   "cell_type": "code",
   "execution_count": 36,
   "metadata": {},
   "outputs": [
    {
     "name": "stdout",
     "output_type": "stream",
     "text": [
      "tensor([[1]])\n",
      "(tensor([[0]]), tensor([[0]]))\n"
     ]
    },
    {
     "data": {
      "text/plain": [
       "tensor([[[0, 0]]])"
      ]
     },
     "execution_count": 36,
     "metadata": {},
     "output_type": "execute_result"
    }
   ],
   "source": [
    "import torch \n",
    "from einops import rearrange\n",
    "def generate_relative_positions_matrix(length, max_relative_positions,\n",
    "                                       cache=False):\n",
    "    \"\"\"Generate the clipped relative positions matrix\n",
    "       for a given length and maximum relative positions\"\"\"\n",
    "    if cache:\n",
    "        distance_mat = torch.arange(-length+1, 1, 1).unsqueeze(0)\n",
    "    else:\n",
    "        range_vec = torch.arange(length)\n",
    "        range_mat = range_vec.unsqueeze(-1).expand(-1, length).transpose(0, 1)\n",
    "        distance_mat = range_mat - range_mat.transpose(0, 1)\n",
    "    distance_mat_clipped = torch.clamp(distance_mat,\n",
    "                                       min=-max_relative_positions,\n",
    "                                       max=max_relative_positions)\n",
    "    # Shift values to be >= 0\n",
    "    final_mat = distance_mat_clipped + max_relative_positions\n",
    "    return final_mat \n",
    "\n",
    "\n",
    "def calc_rel_pos(n):\n",
    "    pos = torch.meshgrid(torch.arange(n), torch.arange(n))\n",
    "    print(pos)\n",
    "    pos = rearrange(torch.stack(pos), 'n i j -> (i j) n')  # [n*n, 2] pos[n] = (i, j)\n",
    "    rel_pos = pos[None, :] - pos[:, None]                  # [n*n, n*n, 2] rel_pos[n, m] = (rel_i, rel_j)\n",
    "    rel_pos += n - 1                                       # shift value range from [-n+1, n-1] to [0, 2n-2]\n",
    "    return rel_pos\n",
    "\n",
    "print(generate_relative_positions_matrix(1,1))\n",
    "calc_rel_pos(1)"
   ]
  },
  {
   "cell_type": "code",
   "execution_count": 24,
   "metadata": {},
   "outputs": [],
   "source": [
    "class LambdaLayer(nn.Module):\n",
    "    def __init__(self, dim, dim_k, dim_out, heads):\n",
    "        super(LambdaLayer, self).__init__()\n",
    "\n",
    "        assert(dim_out % heads) == 0\n",
    "        self.heads = heads\n",
    "        dim_v = dim_out // heads\n",
    "\n",
    "# (Page 5) BN after Q and V are helpful\n",
    "        self.get_q = nn.Sequential(\n",
    "            nn.Conv2d(in_channels=dim, out_channels=dim_k*heads, kernel_size=1, bias=False),\n",
    "            nn.BatchNorm2d(dim_k*heads),\n",
    "        )\n",
    "        self.get_v = nn.Sequential(\n",
    "            nn.Conv2d(in_channels=dim, out_channels=dim_v, kernel_size=1, bias=False),\n",
    "            nn.BatchNorm2d(dim_v),\n",
    "        )\n",
    "        self.get_k = nn.Conv2d(in_channels=dim, out_channels=dim_k*heads, kernel_size=1, bias=False)\n",
    "\n",
    "        ## TODO： \n",
    "        # self.embedding = ()\n",
    "        # self.relative_position = generate_relative_positions_matrix(dim,dim)\n",
    "\n",
    "    def forward(self,x):\n",
    "        (b, c, im_h, im_w) = x.shape\n",
    "        Q = self.get_q(x)\n",
    "        K = self.get_k(x)\n",
    "        V = self.get_v(x)\n",
    "        \n",
    "        Q = rearrange(Q, 'b (h k) im_h im_w -> b h k (im_h im_w)', h=self.heads)\n",
    "        print(Q.size())\n",
    "        K = rearrange(K, 'b k im_h im_w -> b k (im_h im_w)')\n",
    "        print(K.size())\n",
    "        V = rearrange(V, 'b v im_h im_w -> b v (im_h im_w)')\n",
    "        print(V.size())\n",
    "        σ_K = K.softmax(dim=-1)\n",
    "        λc = einsum('b k m, b v m -> b k v', σ_K, V)\n",
    "        # λp = einsum('b ') ## TODO: 添加Embedding\n",
    "\n",
    "        # λn = λc + λp\n",
    "        return λc"
   ]
  },
  {
   "cell_type": "code",
   "execution_count": 27,
   "metadata": {},
   "outputs": [
    {
     "name": "stdout",
     "output_type": "stream",
     "text": [
      "torch.Size([32, 3, 3, 65025])\n",
      "torch.Size([32, 9, 65025])\n",
      "torch.Size([32, 1, 65025])\n"
     ]
    },
    {
     "data": {
      "text/plain": [
       "torch.Size([32, 9, 1])"
      ]
     },
     "execution_count": 27,
     "metadata": {},
     "output_type": "execute_result"
    }
   ],
   "source": [
    "import torch\n",
    "import torch.nn as nn\n",
    "from einops import rearrange\n",
    "from torch import einsum\n",
    "from torchinfo import summary\n",
    "\n",
    "# summary(LambdaLayer(dim=3,dim_k=3,dim_out=3,heads=3), (32,3,255,255))\n",
    "\n",
    "X = torch.rand((32,3,255,255))\n",
    "LambdaLayer(dim=3,dim_k=3,dim_out=3,heads=3)(X).size()\n"
   ]
  },
  {
   "cell_type": "code",
   "execution_count": 5,
   "metadata": {},
   "outputs": [],
   "source": [
    "from einops import rearrange\n",
    "def calc_rel_pos(n):\n",
    "    pos = torch.meshgrid(torch.arange(n), torch.arange(n))\n",
    "    pos = rearrange(torch.stack(pos), 'n i j -> (i j) n')  # [n*n, 2] pos[n] = (i, j)\n",
    "    rel_pos = pos[None, :] - pos[:, None]                  # [n*n, n*n, 2] rel_pos[n, m] = (rel_i, rel_j)\n",
    "    rel_pos += n - 1                                       # shift value range from [-n+1, n-1] to [0, 2n-2]\n",
    "    return rel_pos"
   ]
  },
  {
   "cell_type": "code",
   "execution_count": 10,
   "metadata": {},
   "outputs": [
    {
     "name": "stdout",
     "output_type": "stream",
     "text": [
      "tensor([[[1, 1, 2, 2],\n",
      "         [1, 1, 2, 2],\n",
      "         [0, 0, 1, 1],\n",
      "         [0, 0, 1, 1]],\n",
      "\n",
      "        [[1, 2, 1, 2],\n",
      "         [0, 1, 0, 1],\n",
      "         [1, 2, 1, 2],\n",
      "         [0, 1, 0, 1]]])\n",
      "tensor([[[1, 1],\n",
      "         [1, 2],\n",
      "         [2, 1],\n",
      "         [2, 2]],\n",
      "\n",
      "        [[1, 0],\n",
      "         [1, 1],\n",
      "         [2, 0],\n",
      "         [2, 1]],\n",
      "\n",
      "        [[0, 1],\n",
      "         [0, 2],\n",
      "         [1, 1],\n",
      "         [1, 2]],\n",
      "\n",
      "        [[0, 0],\n",
      "         [0, 1],\n",
      "         [1, 0],\n",
      "         [1, 1]]])\n"
     ]
    }
   ],
   "source": [
    "import torch \n",
    "def rel_pos_indices(size):\n",
    "    size = (size, size)\n",
    "    pos = torch.stack(torch.meshgrid(torch.arange(size[0]), torch.arange(size[1]))).flatten(1)\n",
    "    rel_pos = pos[:, None, :] - pos[:, :, None]\n",
    "    rel_pos[0] += size[0] - 1\n",
    "    rel_pos[1] += size[1] - 1\n",
    "    return rel_pos  # 2, H * W, H * W\n",
    "\n",
    "print(rel_pos_indices(2))\n",
    "print(calc_rel_pos(2))"
   ]
  },
  {
   "cell_type": "code",
   "execution_count": 41,
   "metadata": {},
   "outputs": [
    {
     "name": "stdout",
     "output_type": "stream",
     "text": [
      "tensor([[[1, 1, 2, 2],\n",
      "         [1, 1, 2, 2],\n",
      "         [0, 0, 1, 1],\n",
      "         [0, 0, 1, 1]],\n",
      "\n",
      "        [[1, 2, 1, 2],\n",
      "         [0, 1, 0, 1],\n",
      "         [1, 2, 1, 2],\n",
      "         [0, 1, 0, 1]]])\n",
      "tensor([[[1, 1, 2, 2],\n",
      "         [1, 1, 2, 2],\n",
      "         [0, 0, 1, 1],\n",
      "         [0, 0, 1, 1]],\n",
      "\n",
      "        [[1, 2, 1, 2],\n",
      "         [0, 1, 0, 1],\n",
      "         [1, 2, 1, 2],\n",
      "         [0, 1, 0, 1]]])\n",
      "tensor([[[1, 1],\n",
      "         [1, 2],\n",
      "         [2, 1],\n",
      "         [2, 2]],\n",
      "\n",
      "        [[1, 0],\n",
      "         [1, 1],\n",
      "         [2, 0],\n",
      "         [2, 1]],\n",
      "\n",
      "        [[0, 1],\n",
      "         [0, 2],\n",
      "         [1, 1],\n",
      "         [1, 2]],\n",
      "\n",
      "        [[0, 0],\n",
      "         [0, 1],\n",
      "         [1, 0],\n",
      "         [1, 1]]])\n"
     ]
    },
    {
     "data": {
      "text/plain": [
       "True"
      ]
     },
     "execution_count": 41,
     "metadata": {},
     "output_type": "execute_result"
    }
   ],
   "source": [
    "import torch \n",
    "def rel_pos_indices(size):\n",
    "    size = (size, size)\n",
    "    pos = torch.stack(torch.meshgrid(torch.arange(size[0]), torch.arange(size[1]))).flatten(1)\n",
    "    rel_pos = pos[:, None, :] - pos[:, :, None]\n",
    "    rel_pos[0] += size[0] - 1\n",
    "    rel_pos[1] += size[1] - 1\n",
    "    return rel_pos  # 2, H * W, H * W\n",
    "\n",
    "  \n",
    "from einops import rearrange\n",
    "def get_relative_position_matrix(size,):\n",
    "  x = torch.repeat_interleave(torch.arange(size),size,dim=0)\n",
    "  y = torch.arange(size).repeat(size)\n",
    "  distance_mat = torch.stack((x,y))\n",
    "  distance_mat = distance_mat[:,None, :] - distance_mat[:, :,None]\n",
    "  distance_mat = torch.clamp(distance_mat, -size, size)\n",
    "  distance_mat += size-1\n",
    "  return distance_mat\n",
    "\n",
    "def calc_rel_pos(n):\n",
    "    pos = torch.meshgrid(torch.arange(n), torch.arange(n))\n",
    "    pos = rearrange(torch.stack(pos), 'n i j -> (i j) n')  # [n*n, 2] pos[n] = (i, j)\n",
    "    rel_pos = pos[None, :] - pos[:, None]                  # [n*n, n*n, 2] rel_pos[n, m] = (rel_i, rel_j)\n",
    "    rel_pos += n - 1                                       # shift value range from [-n+1, n-1] to [0, 2n-2]\n",
    "    return rel_pos\n",
    "\n",
    "print(get_relative_position_matrix(2))\n",
    "print(rel_pos_indices(2))\n",
    "print(calc_rel_pos(2))\n",
    "torch.equal(get_relative_position_matrix(10), rel_pos_indices(10))"
   ]
  },
  {
   "cell_type": "code",
   "execution_count": 39,
   "metadata": {},
   "outputs": [
    {
     "data": {
      "text/plain": [
       "tensor([[[1, 1, 2, 2],\n",
       "         [1, 1, 2, 2],\n",
       "         [0, 0, 1, 1],\n",
       "         [0, 0, 1, 1]],\n",
       "\n",
       "        [[1, 2, 1, 2],\n",
       "         [0, 1, 0, 1],\n",
       "         [1, 2, 1, 2],\n",
       "         [0, 1, 0, 1]]])"
      ]
     },
     "execution_count": 39,
     "metadata": {},
     "output_type": "execute_result"
    }
   ],
   "source": [
    "size=2\n",
    "\n",
    "x = torch.repeat_interleave(torch.arange(size),size,dim=0)\n",
    "y = torch.arange(size).repeat(size)\n",
    "distance_mat = torch.stack((x,y))\n",
    "distance_mat = distance_mat[:,None, :] - distance_mat[:, :,None]\n",
    "distance_mat = torch.clamp(distance_mat, -size, size)\n",
    "# distance_mat = rearrange(distance_mat, 'n i j -> (i j) n')\n",
    "distance_mat += size-1\n",
    "distance_mat"
   ]
  },
  {
   "cell_type": "code",
   "execution_count": 37,
   "metadata": {},
   "outputs": [
    {
     "name": "stdout",
     "output_type": "stream",
     "text": [
      "torch.Size([100, 100, 1])\n"
     ]
    }
   ],
   "source": [
    "import torch\n",
    "import torch.nn as nn\n",
    "from einops import rearrange\n",
    "from torch import einsum\n",
    "\n",
    "def setup_seed(seed):\n",
    "     torch.manual_seed(seed)\n",
    "     torch.cuda.manual_seed_all(seed)\n",
    "    #  np.random.seed(seed)\n",
    "    #  random.seed(seed)\n",
    "     torch.backends.cudnn.deterministic = True\n",
    "# 设置随机数种子\n",
    "setup_seed(20)\n",
    "\n",
    "def calc_rel_pos(n):\n",
    "    pos = torch.meshgrid(torch.arange(n), torch.arange(n))\n",
    "    pos = rearrange(torch.stack(pos), 'n i j -> (i j) n')  # [n*n, 2] pos[n] = (i, j)\n",
    "    rel_pos = pos[None, :] - pos[:, None]                  # [n*n, n*n, 2] rel_pos[n, m] = (rel_i, rel_j)\n",
    "    rel_pos += n - 1                                       # shift value range from [-n+1, n-1] to [0, 2n-2]\n",
    "    return rel_pos\n",
    "\n",
    "def calc_embeddings(dim_k, n):\n",
    "    rel_lengths = 2 * n - 1\n",
    "    # rel_pos_emb = nn.Parameter(torch.randn(rel_lengths, rel_lengths, dim_k))\n",
    "    rel_pos_emb = nn.Parameter(torch.arange(rel_lengths*rel_lengths*dim_k,dtype=float).reshape(rel_lengths,rel_lengths,dim_k))\n",
    "    rel_pos = calc_rel_pos(n)\n",
    "\n",
    "    n, m = rel_pos.unbind(dim = -1)\n",
    "    rel_pos_emb = rel_pos_emb[n, m]\n",
    "    return rel_pos_emb\n",
    "\n",
    "def get_relative_position_matrix(size,):\n",
    "  x = torch.repeat_interleave(torch.arange(size),size,dim=0)\n",
    "  y = torch.arange(size).repeat(size)\n",
    "  distance_mat = torch.stack((x,y))\n",
    "  distance_mat = distance_mat[:,None, :] - distance_mat[:, :,None]\n",
    "  distance_mat = torch.clamp(distance_mat, -size, size)\n",
    "  distance_mat += size-1\n",
    "  return distance_mat\n",
    "\n",
    "def get_embedding(dim_k=1, n=2):\n",
    "  rel_lengths = 2 * n - 1 # n = im_h = im_w the feature map size\n",
    "  # rel_pos_emb = nn.Parameter(torch.randn(rel_lengths, rel_lengths, dim_k)) # 2*n-1 2*n-1 k \n",
    "  rel_pos_emb = nn.Parameter(torch.arange(rel_lengths*rel_lengths*dim_k,dtype=float).reshape(rel_lengths,rel_lengths,dim_k))\n",
    "  rel_pos = get_relative_position_matrix(n)\n",
    "  return rel_pos_emb[rel_pos[0], rel_pos[1]]\n",
    "\n",
    "# print(calc_embeddings(1,10))\n",
    "# print(get_embedding(1,10))\n",
    "# torch.equal(calc_embeddings(1,10), get_embedding(1,10))\n",
    "print(get_embedding(1,10).shape)"
   ]
  },
  {
   "cell_type": "code",
   "execution_count": 9,
   "metadata": {},
   "outputs": [
    {
     "name": "stdout",
     "output_type": "stream",
     "text": [
      "torch.Size([1, 32, 64, 64])\n",
      "torch.Size([1, 32, 64, 64])\n"
     ]
    }
   ],
   "source": [
    "from layers.Lambda_layer import LambdaLayer\n",
    "from lambda_networks import LambdaLayer\n",
    "\n",
    "layer1 = LambdaLayer(\n",
    "    dim = 32,       # channels going in\n",
    "    dim_out = 32,   # channels out\n",
    "    n = 64,         # size of the receptive window - max(height, width)\n",
    "    dim_k = 16,     # key dimension\n",
    "    heads = 4,      # number of heads, for multi-query\n",
    "    dim_u = 1       # 'intra-depth' dimension\n",
    ")\n",
    "\n",
    "#  dim, dim_k, n, dim_out, heads, r=None\n",
    "layer2 = LambdaLayer(\n",
    "    dim = 32,       # channels going in\n",
    "    dim_k = 16,     # key dimension\n",
    "    n = 64,         # size of the receptive window - max(height, width)\n",
    "    dim_out = 32,   # channels out\n",
    "    heads = 4,      # number of heads, for multi-query\n",
    "    # r = 23,\n",
    ")\n",
    "\n",
    "x = torch.randn(1, 32, 64, 64)\n"
   ]
  },
  {
   "cell_type": "code",
   "execution_count": 6,
   "metadata": {},
   "outputs": [
    {
     "ename": "ValueError",
     "evalue": "too many values to unpack (expected 2)",
     "output_type": "error",
     "traceback": [
      "\u001b[0;31m---------------------------------------------------------------------------\u001b[0m",
      "\u001b[0;31mValueError\u001b[0m                                Traceback (most recent call last)",
      "\u001b[0;32m/var/folders/34/f44w08g92cddctb47s9_02jw0000gn/T/ipykernel_55840/2759426288.py\u001b[0m in \u001b[0;36m<module>\u001b[0;34m\u001b[0m\n\u001b[1;32m     17\u001b[0m \u001b[0;34m\u001b[0m\u001b[0m\n\u001b[1;32m     18\u001b[0m \u001b[0;34m\u001b[0m\u001b[0m\n\u001b[0;32m---> 19\u001b[0;31m \u001b[0mn\u001b[0m\u001b[0;34m,\u001b[0m \u001b[0mm\u001b[0m \u001b[0;34m=\u001b[0m \u001b[0mget_embedding\u001b[0m\u001b[0;34m(\u001b[0m\u001b[0;36m16\u001b[0m\u001b[0;34m,\u001b[0m\u001b[0;36m64\u001b[0m\u001b[0;34m)\u001b[0m\u001b[0;34m.\u001b[0m\u001b[0munbind\u001b[0m\u001b[0;34m(\u001b[0m\u001b[0mdim\u001b[0m \u001b[0;34m=\u001b[0m \u001b[0;34m-\u001b[0m\u001b[0;36m1\u001b[0m\u001b[0;34m)\u001b[0m\u001b[0;34m\u001b[0m\u001b[0;34m\u001b[0m\u001b[0m\n\u001b[0m",
      "\u001b[0;31mValueError\u001b[0m: too many values to unpack (expected 2)"
     ]
    }
   ],
   "source": [
    "import torch.nn as nn\n",
    "def get_relative_position_matrix(size,):\n",
    "    x = torch.repeat_interleave(torch.arange(size),size,dim=0)\n",
    "    y = torch.arange(size).repeat(size)\n",
    "    distance_mat = torch.stack((x,y))\n",
    "    distance_mat = distance_mat[:,None, :] - distance_mat[:, :,None]\n",
    "    distance_mat = torch.clamp(distance_mat, -size, size)\n",
    "    distance_mat += size-1\n",
    "    return distance_mat\n",
    "\n",
    "def get_embedding(dim_k, n):\n",
    "    rel_lengths = 2 * n - 1 # n = im_h = im_w the feature map size\n",
    "    rel_pos_emb = nn.Parameter(torch.randn(rel_lengths, rel_lengths, dim_k)) # 2*n-1 2*n-1 k \n",
    "    rel_pos = get_relative_position_matrix(n)\n",
    "    # return rel_pos\n",
    "    return rel_pos_emb[rel_pos[0], rel_pos[1]]\n",
    "\n",
    "\n",
    "n, m = get_embedding(16,64).unbind(dim = -1)"
   ]
  },
  {
   "cell_type": "code",
   "execution_count": 10,
   "metadata": {},
   "outputs": [
    {
     "name": "stdout",
     "output_type": "stream",
     "text": [
      "torch.Size([1, 4096, 16, 8])\n"
     ]
    }
   ],
   "source": [
    "from einops import rearrange\n",
    "from torch import einsum\n",
    "import torch.nn as nn\n",
    "def get_relative_position_matrix(size,):\n",
    "    x = torch.repeat_interleave(torch.arange(size),size,dim=0)\n",
    "    y = torch.arange(size).repeat(size)\n",
    "    distance_mat = torch.stack((x,y))\n",
    "    distance_mat = distance_mat[:,None, :] - distance_mat[:, :,None]\n",
    "    distance_mat = torch.clamp(distance_mat, -size, size)\n",
    "    distance_mat += size-1\n",
    "    return distance_mat\n",
    "\n",
    "def get_embedding(dim_k, n):\n",
    "    rel_lengths = 2 * n - 1 # n = im_h = im_w the feature map size\n",
    "    rel_pos_emb = nn.Parameter(torch.randn(rel_lengths, rel_lengths, dim_k)) # 2*n-1 2*n-1 k \n",
    "    rel_pos = get_relative_position_matrix(n)\n",
    "    # return rel_pos\n",
    "    return rel_pos_emb[rel_pos[0], rel_pos[1]]\n",
    "\n",
    "V = torch.randn(1, 64*64, 32//4)\n",
    "embeddings = get_embedding(16, 64) # n m k\n",
    "λp = einsum('n m k, b m v -> b n k v', embeddings, V)\n"
   ]
  }
 ],
 "metadata": {
  "interpreter": {
   "hash": "099d15d9623218e05815a9aa435e69d26d96cf35f579f62cb4dcfa91bbc85db9"
  },
  "kernelspec": {
   "display_name": "Python 3.8.12 ('torch')",
   "language": "python",
   "name": "python3"
  },
  "language_info": {
   "codemirror_mode": {
    "name": "ipython",
    "version": 3
   },
   "file_extension": ".py",
   "mimetype": "text/x-python",
   "name": "python",
   "nbconvert_exporter": "python",
   "pygments_lexer": "ipython3",
   "version": "3.8.12"
  },
  "orig_nbformat": 4
 },
 "nbformat": 4,
 "nbformat_minor": 2
}
